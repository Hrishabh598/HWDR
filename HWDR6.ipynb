{
  "cells": [
    {
      "cell_type": "code",
      "execution_count": null,
      "metadata": {
        "colab": {
          "background_save": true
        },
        "id": "sAn3VePaVHp-",
        "outputId": "3ed1757d-824f-47ae-a823-17181ac0c348"
      },
      "outputs": [
        {
          "name": "stdout",
          "output_type": "stream",
          "text": [
            "Collecting mnist\n",
            "  Downloading mnist-0.2.2-py2.py3-none-any.whl (3.5 kB)\n",
            "Requirement already satisfied: numpy in /usr/local/lib/python3.10/dist-packages (from mnist) (1.23.5)\n",
            "Installing collected packages: mnist\n",
            "Successfully installed mnist-0.2.2\n"
          ]
        }
      ],
      "source": [
        "!pip install mnist"
      ]
    },
    {
      "cell_type": "code",
      "execution_count": null,
      "metadata": {
        "colab": {
          "background_save": true
        },
        "id": "KXxKMKb5VLU7"
      },
      "outputs": [],
      "source": [
        "#importing the models\n",
        "import numpy as np\n",
        "import mnist\n",
        "from sklearn.model_selection import train_test_split"
      ]
    },
    {
      "cell_type": "code",
      "execution_count": null,
      "metadata": {
        "colab": {
          "background_save": true
        },
        "id": "KMHEH2LGVoHR",
        "outputId": "ed0af1be-e884-4788-fbcb-c47b46a4c8b8"
      },
      "outputs": [
        {
          "name": "stdout",
          "output_type": "stream",
          "text": [
            "(60000, 10) (10000, 10)\n"
          ]
        }
      ],
      "source": [
        "#import and create the dataset or preprocess it\n",
        "train_images = mnist.train_images()\n",
        "train_labels = mnist.train_labels()\n",
        "test_images = mnist.test_images()\n",
        "test_labels = mnist.test_labels()\n",
        "\n",
        "#As the model used is ANN which take 784 input variables but our test dataset is 2d therefore convert it into single dimension matrix\n",
        "train_images = train_images.reshape(-1,28*28)\n",
        "train_images = train_images/255.0 # as the range is from 0 to 255 so changed it to 0 to 1\n",
        "#similarly for test_images\n",
        "test_images = test_images.reshape(-1,28*28)/255.0\n",
        "\n",
        "#Now the labels\n",
        "train_labels = np.eye(10)[train_labels]\n",
        "test_labels = np.eye(10)[test_labels]\n",
        "\n",
        "print(train_labels.shape,test_labels.shape)"
      ]
    },
    {
      "cell_type": "code",
      "execution_count": null,
      "metadata": {
        "colab": {
          "background_save": true
        },
        "id": "OzPTNx7SY82a"
      },
      "outputs": [],
      "source": [
        "#creating the model\n",
        "input_layer_nodes = 784\n",
        "hidden_layer_nodes = 128\n",
        "output_layer_nodes = 10\n",
        "learning_rate = 0.1\n",
        "\n",
        "np.random.seed(0)\n",
        "input_hidden_weights = np.random.randn(input_layer_nodes,hidden_layer_nodes)\n",
        "hidden_output_weights = np.random.randn(hidden_layer_nodes,output_layer_nodes)\n",
        "\n",
        "hidden_biases = np.zeros(hidden_layer_nodes)\n",
        "output_biases = np.zeros(output_layer_nodes)\n",
        "\n"
      ]
    },
    {
      "cell_type": "code",
      "execution_count": null,
      "metadata": {
        "id": "ovH0cVjvWkP5"
      },
      "outputs": [],
      "source": [
        "#Helping functions\n",
        "def softmax(x):\n",
        "  exp_x = np.exp(x-np.max(x,axis=1,keepdims=True))\n",
        "  return exp_x/np.sum(x,axis=1,keepdims=True)"
      ]
    }
  ],
  "metadata": {
    "colab": {
      "provenance": []
    },
    "kernelspec": {
      "display_name": "Python 3",
      "name": "python3"
    },
    "language_info": {
      "name": "python"
    }
  },
  "nbformat": 4,
  "nbformat_minor": 0
}