{
  "cells": [
    {
      "cell_type": "code",
      "execution_count": 1,
      "metadata": {
        "colab": {
          "base_uri": "https://localhost:8080/"
        },
        "id": "igxc9YuekJU4",
        "outputId": "2e3fffca-f278-4b5a-ebb0-f07b98dc706f"
      },
      "outputs": [
        {
          "output_type": "stream",
          "name": "stdout",
          "text": [
            "Mounted at /content/drive\n"
          ]
        }
      ],
      "source": [
        "from google.colab import drive\n",
        "drive.mount('/content/drive')"
      ]
    },
    {
      "cell_type": "code",
      "execution_count": 2,
      "metadata": {
        "id": "kSvjP7SkLuuq"
      },
      "outputs": [],
      "source": [
        "import numpy as np\n",
        "from mlxtend.data import loadlocal_mnist\n",
        "import tensorflow as tf"
      ]
    },
    {
      "cell_type": "code",
      "execution_count": 8,
      "metadata": {
        "id": "GsNg-q61WnR2"
      },
      "outputs": [],
      "source": [
        "def sigmoid(x,derivative=False):\n",
        "    temp = 1/(1+np.exp(-x))\n",
        "    if(derivative==True):\n",
        "        return temp*(1-temp)\n",
        "    return temp\n",
        "\n",
        "def softmax(x, derivative=False):\n",
        "    if derivative:\n",
        "        s = softmax(x)\n",
        "        return np.diag(s) - np.outer(s, s)\n",
        "    else:\n",
        "        exp_x = np.exp(x - np.max(x, axis=-1, keepdims=True))\n",
        "        return exp_x / np.sum(exp_x, axis=-1, keepdims=True)\n",
        "\n",
        "def loss(predicted_output, desired_output):\n",
        "    return 1/2*(desired_output-predicted_output)**2\n",
        "\n",
        "class NeuralNetwork():\n",
        "  def __init__(self,inputLayer,hiddenLayer,OutputLayer):\n",
        "      self.inputLayer = inputLayer\n",
        "      self.hiddenLayer = hiddenLayer\n",
        "      self.ouputLayer = OutputLayer\n",
        "      self.learningRate = 0.1\n",
        "\n",
        "      self.hidden_weights = np.random.randn(hiddenLayer,inputLayer)*np.sqrt(2/inputLayer)\n",
        "      self.hidden_bias = np.zeros([hiddenLayer,1])\n",
        "      self.output_weights = np.random.randn(OutputLayer,hiddenLayer)\n",
        "      self.output_bias = np.zeros([OutputLayer,1])\n",
        "      self.loss = []\n",
        "\n",
        "  def train(self,inputs,desired_output):\n",
        "    hidden_layer_in = np.dot(self.hidden_weights,inputs) + self.hidden_bias\n",
        "    hidden_layer_out = sigmoid(hidden_layer_in)\n",
        "\n",
        "    #pass on to next layer\n",
        "    output_layer_in = np.dot(self.output_weights,hidden_layer_out)+self.output_bias\n",
        "    predicted_output = sigmoid(output_layer_in)\n",
        "\n",
        "\n",
        "    #back-propagation\n",
        "    error = desired_output - predicted_output\n",
        "    d_predicted_output = error*sigmoid(predicted_output,derivative=True)\n",
        "\n",
        "    error_hidden_layer = d_predicted_output.T.dot(self.output_weights)\n",
        "    d_hidden_layer = error_hidden_layer.T*sigmoid(hidden_layer_out,derivative=True)\n",
        "\n",
        "    self.output_weights += hidden_layer_out.dot(d_predicted_output.T).T*self.learningRate\n",
        "    self.output_bias += np.sum(d_predicted_output,axis=0,keepdims=True)\n",
        "\n",
        "    self.hidden_weights += inputs.dot(d_hidden_layer.T).T*self.learningRate\n",
        "    self.hidden_bias += np.sum(d_hidden_layer,axis=0,keepdims=True)\n",
        "\n",
        "    self.loss.append(loss(predicted_output,desired_output))\n",
        "\n",
        "  def predict(self,inputs):\n",
        "    hidden_layer_in = np.dot(self.hidden_weights,inputs) + self.hidden_bias\n",
        "    hidden_layer_out = sigmoid(hidden_layer_in)\n",
        "\n",
        "    #pass on to next layer\n",
        "    output_layer_in = np.dot(self.output_weights,hidden_layer_out)+self.output_bias\n",
        "    return sigmoid(output_layer_in)"
      ]
    },
    {
      "cell_type": "code",
      "execution_count": 9,
      "metadata": {
        "colab": {
          "base_uri": "https://localhost:8080/"
        },
        "id": "QnGypnBbL4JG",
        "outputId": "62d9a0c4-6c99-418d-89d0-0037b663f9e9"
      },
      "outputs": [
        {
          "output_type": "stream",
          "name": "stdout",
          "text": [
            "(50000, 784)\n",
            "(10000, 784)\n"
          ]
        }
      ],
      "source": [
        "X, y = loadlocal_mnist(images_path='/content/drive/MyDrive/train-images.idx3-ubyte',labels_path='/content/drive/MyDrive/train-labels.idx1-ubyte')\n",
        "#Spliting dataset\n",
        "num_train = 50000\n",
        "num_test = 10000\n",
        "X_train = X[:num_train, :]/255\n",
        "y_train = np.zeros((num_train, 10))\n",
        "y_train[np.arange(0, num_train) ,y[:num_train]] = 1\n",
        "X_test = X[num_train:, :]/255\n",
        "y_test = np.zeros((num_test, 10))\n",
        "y_test[np.arange(0, num_test) ,y[y.size - num_test:]] = 1\n",
        "print(X_train.shape,X_test.shape,sep = '\\n')"
      ]
    },
    {
      "cell_type": "code",
      "execution_count": 14,
      "metadata": {
        "id": "1d0_um4pV-Hu"
      },
      "outputs": [],
      "source": [
        "nn = NeuralNetwork(784,280,10)\n",
        "\n",
        "#Train model ------------------[HEHE]\n",
        "for i in range(X_train.shape[0]):\n",
        "  inputs = np.array(X_train[i, :].reshape(-1,1))\n",
        "  desired_output = np.array(y_train[i, :].reshape(-1,1))\n",
        "  nn.train(inputs,desired_output)"
      ]
    },
    {
      "cell_type": "code",
      "execution_count": 15,
      "metadata": {
        "colab": {
          "base_uri": "https://localhost:8080/"
        },
        "id": "XK1WdYrhg0-u",
        "outputId": "3a1a7b69-6eb9-4037-a4bf-96f9a3acb76b"
      },
      "outputs": [
        {
          "output_type": "stream",
          "name": "stdout",
          "text": [
            "Accuracy is :  90.16 % \n"
          ]
        }
      ],
      "source": [
        "#Test it ------------------------- {How much accurate it is?(LOL)}\n",
        "prediction_list = []\n",
        "for i in range(X_test.shape[0]):\n",
        "  inputs = np.array(X_test[i].reshape(-1,1))\n",
        "  prediction_list.append(nn.predict(inputs))\n",
        "\n",
        "correct_counter = 0\n",
        "for i in range(len(prediction_list)):\n",
        "  out_index = np.where(prediction_list[i]==np.amax(prediction_list[i]))[0][0]\n",
        "\n",
        "  if y_test[i][out_index] == 1:\n",
        "    correct_counter+=1\n",
        "accuracy = correct_counter/10000\n",
        "\n",
        "print(\"Accuracy is : \",accuracy*100,\"% \")"
      ]
    }
  ],
  "metadata": {
    "colab": {
      "provenance": []
    },
    "kernelspec": {
      "display_name": "Python 3",
      "name": "python3"
    },
    "language_info": {
      "name": "python"
    }
  },
  "nbformat": 4,
  "nbformat_minor": 0
}